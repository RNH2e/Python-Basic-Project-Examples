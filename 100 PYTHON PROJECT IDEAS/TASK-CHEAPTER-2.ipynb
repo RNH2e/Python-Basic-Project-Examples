{
 "cells": [
  {
   "cell_type": "markdown",
   "id": "4897d959",
   "metadata": {},
   "source": [
    "# How many words are repeated in a text"
   ]
  },
  {
   "cell_type": "code",
   "execution_count": 4,
   "id": "f5a0ef08",
   "metadata": {},
   "outputs": [
    {
     "name": "stdout",
     "output_type": "stream",
     "text": [
      "Bir metin giriniz:asdsffghj\n",
      "'asdsffghj': 1\n"
     ]
    }
   ],
   "source": [
    "def WordCounter():\n",
    "    text = input('Bir metin giriniz:')\n",
    "    words = text.split()\n",
    "    word_count = {}\n",
    "    \n",
    "    for word in words:\n",
    "        if word in word_count:\n",
    "            word_count[word] += 1\n",
    "        else:\n",
    "            word_count[word] = 1\n",
    "            \n",
    "    #for key, value in my_dict.items():\n",
    "    #print(key, value)\n",
    "    \n",
    "    for word, count in word_count.items():\n",
    "        print(f\"'{word}': {count}\")\n",
    "        \n",
    "WordCounter()"
   ]
  },
  {
   "cell_type": "markdown",
   "id": "e9dc7ecd",
   "metadata": {},
   "source": [
    "# Access a file and find repeated words from the text inside"
   ]
  },
  {
   "cell_type": "code",
   "execution_count": 3,
   "id": "26b6abde",
   "metadata": {},
   "outputs": [
    {
     "name": "stdout",
     "output_type": "stream",
     "text": [
      "En çok tekrar eden kelimeler:\n",
      "'sev': 19\n",
      "'yine': 14\n",
      "'Beni': 10\n",
      "'deli': 10\n",
      "'beni': 9\n"
     ]
    }
   ],
   "source": [
    "import os\n",
    "\n",
    "def ReadFile():\n",
    "\n",
    "    main_path = os.path.expanduser(\"~\") #C:/Users/amine \n",
    "    desktop_path = os.path.join(main_path, \"OneDrive\", \"Masaüstü\")\n",
    "    \n",
    "    file_name = \"ttt.txt\"\n",
    "    \n",
    "    file_path = os.path.join(desktop_path, file_name)\n",
    "    \n",
    "    #C:/Users/amine/OneDrive/Masaüstü/ttt.txt yazddırdık\n",
    "    \n",
    "    with open(file_path, 'r') as file:\n",
    "        content = file.read()\n",
    "    \n",
    "    return content\n",
    "\n",
    "def WordCounter():\n",
    "    text = ReadFile()\n",
    "    words = text.split()\n",
    "    word_count = {}\n",
    "    \n",
    "    for word in words:\n",
    "        if word in word_count:\n",
    "            word_count[word] += 1\n",
    "        else:\n",
    "            word_count[word] = 1\n",
    "            \n",
    "    sorted_word_count = sorted(word_count.items(), key=lambda x: x[1], reverse=True)\n",
    "    \n",
    "    print(\"En çok tekrar eden kelimeler:\")\n",
    "    for word, count in sorted_word_count[:5]:\n",
    "        print(f\"'{word}': {count}\")\n",
    "        \n",
    "WordCounter()"
   ]
  },
  {
   "cell_type": "code",
   "execution_count": 23,
   "id": "82688557",
   "metadata": {},
   "outputs": [
    {
     "name": "stdout",
     "output_type": "stream",
     "text": [
      "Dosyanın dizini: C:\\Users\\amine\\Desktop\\ttt.txt\n"
     ]
    }
   ],
   "source": [
    "dosya_adi = \"ttt.txt\"  # Aradığınız dosyanın adı\n",
    "dizin = os.path.abspath(dosya_adi)\n",
    "\n",
    "print(\"Dosyanın dizini:\", dizin)"
   ]
  },
  {
   "cell_type": "markdown",
   "id": "21b9f1d8",
   "metadata": {},
   "source": [
    "# Email Verification"
   ]
  },
  {
   "cell_type": "code",
   "execution_count": 2,
   "id": "965de406",
   "metadata": {},
   "outputs": [
    {
     "name": "stdout",
     "output_type": "stream",
     "text": [
      "E-postanızı girin:lkhghj\n",
      "Geçersiz e-posta adresi.\n"
     ]
    }
   ],
   "source": [
    "import re\n",
    "\n",
    "def EmailVerification():\n",
    "    email = input(\"E-postanızı girin:\")\n",
    "    pattern = r'^[a-zA-Z0-9._%+-]+@[a-zA-Z0-9.-]+\\.[a-zA-Z]{2,}$'\n",
    "    \n",
    "    if re.match(pattern, email):\n",
    "        print(\"E-posta geçerli.\")\n",
    "    else:\n",
    "        print(\"Geçersiz e-posta adresi.\")\n",
    "\n",
    "EmailVerification()"
   ]
  },
  {
   "cell_type": "markdown",
   "id": "4b665cf2",
   "metadata": {},
   "source": [
    "# Password Strength Check"
   ]
  },
  {
   "cell_type": "code",
   "execution_count": 14,
   "id": "88fabac8",
   "metadata": {},
   "outputs": [
    {
     "name": "stdout",
     "output_type": "stream",
     "text": [
      "Parolanızı girin:Mn.Gkmn13\n",
      "Parola güçlüdür!\n"
     ]
    }
   ],
   "source": [
    "def CheckPassword():\n",
    "    password = input(\"Parolanızı girin:\")\n",
    "    \n",
    "    #any() ifadesi içerisinde bir defa True ifadesi döndüren bir koşu varsa has_upperi true kabul edecek bir fonksiyondur\n",
    "    has_upper = any(c.isupper() for c in password)\n",
    "    has_lower = any(c.islower() for c in password)\n",
    "    has_digit = any(c.isdigit() for c in password)\n",
    " ##   has_special = any(c in '!@#$%^&*()-_=+[]{}|;:,.<>?`~' for c in password)\n",
    "    is_long_enough = len(password) >= 8\n",
    "    \n",
    "    if has_upper and has_lower and has_digit and is_long_enough:\n",
    "        print(\"Parola güçlüdür!\")\n",
    "    \n",
    "    else:\n",
    "        print(\"Parola zayıftır. Lütfen daha güçlü bir parola seçin.\")\n",
    "        \n",
    "CheckPassword()"
   ]
  },
  {
   "cell_type": "markdown",
   "id": "4746546e",
   "metadata": {},
   "source": [
    "# Palindrome Query"
   ]
  },
  {
   "cell_type": "code",
   "execution_count": 21,
   "id": "515b0a3a",
   "metadata": {},
   "outputs": [
    {
     "name": "stdout",
     "output_type": "stream",
     "text": [
      "Bir kelime girin:faaf\n",
      "Bu bir palindrom kelime.\n"
     ]
    }
   ],
   "source": [
    "pali = input(\"Bir kelime girin:\")\n",
    "length = len(pali)\n",
    "is_palindrome = True\n",
    "\n",
    "for i in range(length // 2):  #\"//\" bir ifadenin bölüm sonucunu integer verir\n",
    "    if pali[i] != pali[length - i - 1]:\n",
    "        is_palindrome = False\n",
    "        break\n",
    "\n",
    "if is_palindrome:\n",
    "    print(\"Bu bir palindrom kelime.\")\n",
    "else:\n",
    "    print(\"Bu bir palindrom kelime değil.\")"
   ]
  },
  {
   "cell_type": "code",
   "execution_count": null,
   "id": "81fcf98a",
   "metadata": {},
   "outputs": [],
   "source": []
  }
 ],
 "metadata": {
  "kernelspec": {
   "display_name": "Python 3 (ipykernel)",
   "language": "python",
   "name": "python3"
  },
  "language_info": {
   "codemirror_mode": {
    "name": "ipython",
    "version": 3
   },
   "file_extension": ".py",
   "mimetype": "text/x-python",
   "name": "python",
   "nbconvert_exporter": "python",
   "pygments_lexer": "ipython3",
   "version": "3.11.5"
  }
 },
 "nbformat": 4,
 "nbformat_minor": 5
}
