{
 "cells": [
  {
   "cell_type": "markdown",
   "id": "2ab96b26",
   "metadata": {},
   "source": [
    "## FACTORIAL"
   ]
  },
  {
   "cell_type": "code",
   "execution_count": 1,
   "id": "6fa39137",
   "metadata": {},
   "outputs": [],
   "source": [
    "def fact():\n",
    "    factorial = 1\n",
    "    num = int(input(\"Faktöriyelini hesaplamak istediğiniz pozitif bir sayı girin: \"))\n",
    "    \n",
    "    if num < 0:\n",
    "        print(\"Negatif sayıların faktöriyeli hesaplanamaz.\")\n",
    "        return None\n",
    "    elif num == 0:\n",
    "        print(\"0! = 1\")\n",
    "        return 1\n",
    "    \n",
    "    while num > 1:\n",
    "        factorial *= num\n",
    "        num -= 1\n",
    "        \n",
    "    return factorial"
   ]
  },
  {
   "cell_type": "code",
   "execution_count": 2,
   "id": "e81e2a64",
   "metadata": {},
   "outputs": [
    {
     "name": "stdout",
     "output_type": "stream",
     "text": [
      "Faktöriyelini hesaplamak istediğiniz pozitif bir sayı girin: 7\n",
      "Sonuç: 5040\n"
     ]
    }
   ],
   "source": [
    "result = fact()\n",
    "if result is not None:\n",
    "    print(\"Sonuç:\", result)"
   ]
  },
  {
   "cell_type": "markdown",
   "id": "d23137bc",
   "metadata": {},
   "source": [
    "## EXPONENTIAL NUMBER"
   ]
  },
  {
   "cell_type": "code",
   "execution_count": null,
   "id": "33606517",
   "metadata": {},
   "outputs": [],
   "source": [
    "def uslu_sayi(a,b):\n",
    "    c=1\n",
    "    while (1 <= b):\n",
    "        c = a*c\n",
    "        b -= 1\n",
    "    return c\n",
    "uslu_sayi(3,0)"
   ]
  },
  {
   "cell_type": "markdown",
   "id": "594beb79",
   "metadata": {},
   "source": [
    "# PRIME NUMBER"
   ]
  },
  {
   "cell_type": "code",
   "execution_count": null,
   "id": "f0eb976f",
   "metadata": {},
   "outputs": [],
   "source": [
    "def PrimeNumber():\n",
    "    prime_list = []\n",
    "    start_num = int(input(\"Baslangic sayisi girin: \"))\n",
    "    end_num = int(input(\"Bitis sayisi girin: \"))    \n",
    "    \n",
    "    def is_prime(num):\n",
    "        if num < 2:\n",
    "            return False\n",
    "        for i in range(2,int(num ** 0.5)+1):\n",
    "            if num % i == 0:\n",
    "                return False\n",
    "        return True\n",
    "            \n",
    "    for x in range(start_num, end_num + 1):\n",
    "        if is_prime(x):\n",
    "            prime_list.append(x)\n",
    "    \n",
    "    print(\"Başlangıç ve bitiş sayıları arasındaki asal sayılar:\")\n",
    "    print(prime_list)\n",
    "\n",
    "PrimeNumber()"
   ]
  },
  {
   "cell_type": "markdown",
   "id": "9d564a77",
   "metadata": {},
   "source": [
    "# FIBONACCI"
   ]
  },
  {
   "cell_type": "code",
   "execution_count": 1,
   "id": "0acec237",
   "metadata": {},
   "outputs": [
    {
     "name": "stdout",
     "output_type": "stream",
     "text": [
      "Fibonacci dizisini kaç adıma kadar oluşturmak istersiniz? 7\n",
      "Fibonacci dizisi: [0, 1, 1, 2, 3, 5, 8]\n"
     ]
    }
   ],
   "source": [
    "def fibonacci(n):\n",
    "    fibonacci_list = [0, 1] \n",
    "    while len(fibonacci_list) < n:\n",
    "        next_fibonacci = fibonacci_list[-1] + fibonacci_list[-2]\n",
    "        fibonacci_list.append(next_fibonacci)\n",
    "    return fibonacci_list\n",
    "\n",
    "sayi = int(input(\"Fibonacci dizisini kaç adıma kadar oluşturmak istersiniz? \"))\n",
    "print(f\"Fibonacci dizisi: {fibonacci(sayi)}\")\n"
   ]
  },
  {
   "cell_type": "markdown",
   "id": "c0e0cf43",
   "metadata": {},
   "source": [
    "# Finding the Largest and Smallest Element"
   ]
  },
  {
   "cell_type": "code",
   "execution_count": 2,
   "id": "1258ee01",
   "metadata": {},
   "outputs": [
    {
     "name": "stdout",
     "output_type": "stream",
     "text": [
      "Liste elemanlarını virgülle ayırarak girin: 7,8,9\n",
      "Kullanıcıdan alınan liste: [7, 8, 9]\n",
      "En büyük eleman: 9\n",
      "En küçük eleman: 7\n"
     ]
    }
   ],
   "source": [
    "input_list= input(\"Liste elemanlarını virgülle ayırarak girin: \")\n",
    "num_list = input_list.split(',')\n",
    "\n",
    "try:\n",
    "    num_list = [int(item) for item in num_list]\n",
    "except ValueError:\n",
    "    print(\"Lütfen sadece sayılar girin.\")\n",
    "else:\n",
    "    print(\"Kullanıcıdan alınan liste:\", num_list)\n",
    "\n",
    "   # _max = max(num_list)\n",
    "   # _min = min(num_list)\n",
    "\n",
    "    _min = num_list[0]\n",
    "    for num in num_list:\n",
    "        if num < _min:\n",
    "            _min = num\n",
    "            \n",
    "    _max = num_list[0]\n",
    "    for num in num_list:\n",
    "        if num > _max:\n",
    "            _max = num\n",
    "    \n",
    "    print(\"En büyük eleman:\", _max)\n",
    "    print(\"En küçük eleman:\", _min)"
   ]
  },
  {
   "cell_type": "code",
   "execution_count": null,
   "id": "07664b6c",
   "metadata": {},
   "outputs": [],
   "source": []
  }
 ],
 "metadata": {
  "kernelspec": {
   "display_name": "Python 3 (ipykernel)",
   "language": "python",
   "name": "python3"
  },
  "language_info": {
   "codemirror_mode": {
    "name": "ipython",
    "version": 3
   },
   "file_extension": ".py",
   "mimetype": "text/x-python",
   "name": "python",
   "nbconvert_exporter": "python",
   "pygments_lexer": "ipython3",
   "version": "3.11.5"
  }
 },
 "nbformat": 4,
 "nbformat_minor": 5
}
